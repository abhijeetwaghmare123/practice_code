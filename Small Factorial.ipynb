{
 "cells": [
  {
   "cell_type": "code",
   "execution_count": 1,
   "id": "fcdefeff",
   "metadata": {},
   "outputs": [
    {
     "data": {
      "text/plain": [
       "'Calculate factorial of a given number N.\\n \\n\\nExample 1:\\n\\nInput: 5\\nOutput: 120\\nExplanation: 1 * 2 * 3 * 4 * 5 = 120.'"
      ]
     },
     "execution_count": 1,
     "metadata": {},
     "output_type": "execute_result"
    }
   ],
   "source": [
    "\"\"\"Calculate factorial of a given number N.\n",
    " \n",
    "\n",
    "Example 1:\n",
    "\n",
    "Input: 5\n",
    "Output: 120\n",
    "Explanation: 1 * 2 * 3 * 4 * 5 = 120.\"\"\"\n"
   ]
  },
  {
   "cell_type": "code",
   "execution_count": 3,
   "id": "c71acea7",
   "metadata": {},
   "outputs": [],
   "source": [
    "def find_fact( n):\n",
    "    mil=1\n",
    "    for i in range(1,n+1):\n",
    "        mil*=i\n",
    "    return mil     "
   ]
  },
  {
   "cell_type": "code",
   "execution_count": 4,
   "id": "ef8ff238",
   "metadata": {},
   "outputs": [
    {
     "data": {
      "text/plain": [
       "3628800"
      ]
     },
     "execution_count": 4,
     "metadata": {},
     "output_type": "execute_result"
    }
   ],
   "source": [
    "n=10\n",
    "find_fact(n)"
   ]
  },
  {
   "cell_type": "code",
   "execution_count": null,
   "id": "840e8e94",
   "metadata": {},
   "outputs": [],
   "source": []
  }
 ],
 "metadata": {
  "kernelspec": {
   "display_name": "Python 3 (ipykernel)",
   "language": "python",
   "name": "python3"
  },
  "language_info": {
   "codemirror_mode": {
    "name": "ipython",
    "version": 3
   },
   "file_extension": ".py",
   "mimetype": "text/x-python",
   "name": "python",
   "nbconvert_exporter": "python",
   "pygments_lexer": "ipython3",
   "version": "3.9.13"
  }
 },
 "nbformat": 4,
 "nbformat_minor": 5
}
