{
 "cells": [
  {
   "cell_type": "code",
   "execution_count": 1,
   "id": "668531d7",
   "metadata": {},
   "outputs": [
    {
     "data": {
      "text/plain": [
       "'Given N,  reverse the digits of N.\\n \\n\\nExample 1:\\n\\nInput: 200\\nOutput: 2\\nExplanation: By reversing the digts of \\nnumber, number will change into 2.\\nExample 2:\\n\\nInput : 122\\nOutput: 221\\nExplanation: By reversing the digits of \\nnumber, number will change into 221.'"
      ]
     },
     "execution_count": 1,
     "metadata": {},
     "output_type": "execute_result"
    }
   ],
   "source": [
    "\"\"\"Given N,  reverse the digits of N.\n",
    " \n",
    "\n",
    "Example 1:\n",
    "\n",
    "Input: 200\n",
    "Output: 2\n",
    "Explanation: By reversing the digts of \n",
    "number, number will change into 2.\n",
    "Example 2:\n",
    "\n",
    "Input : 122\n",
    "Output: 221\n",
    "Explanation: By reversing the digits of \n",
    "number, number will change into 221.\"\"\""
   ]
  },
  {
   "cell_type": "code",
   "execution_count": 2,
   "id": "8690a292",
   "metadata": {},
   "outputs": [],
   "source": [
    "def reverse_digit( n):\n",
    "        reversed = 0\n",
    "\n",
    "        while n > 0:\n",
    "            last_digit = n% 10\n",
    "            reversed= reversed * 10 + last_digit\n",
    "            n = n // 10\n",
    "\n",
    "        return reversed"
   ]
  },
  {
   "cell_type": "code",
   "execution_count": 3,
   "id": "02238fd4",
   "metadata": {},
   "outputs": [
    {
     "data": {
      "text/plain": [
       "2"
      ]
     },
     "execution_count": 3,
     "metadata": {},
     "output_type": "execute_result"
    }
   ],
   "source": [
    "reverse_digit(200)"
   ]
  },
  {
   "cell_type": "code",
   "execution_count": 4,
   "id": "7d60400c",
   "metadata": {},
   "outputs": [
    {
     "data": {
      "text/plain": [
       "321"
      ]
     },
     "execution_count": 4,
     "metadata": {},
     "output_type": "execute_result"
    }
   ],
   "source": [
    "reverse_digit(123)"
   ]
  },
  {
   "cell_type": "code",
   "execution_count": null,
   "id": "6251ea17",
   "metadata": {},
   "outputs": [],
   "source": []
  }
 ],
 "metadata": {
  "kernelspec": {
   "display_name": "Python 3 (ipykernel)",
   "language": "python",
   "name": "python3"
  },
  "language_info": {
   "codemirror_mode": {
    "name": "ipython",
    "version": 3
   },
   "file_extension": ".py",
   "mimetype": "text/x-python",
   "name": "python",
   "nbconvert_exporter": "python",
   "pygments_lexer": "ipython3",
   "version": "3.9.13"
  }
 },
 "nbformat": 4,
 "nbformat_minor": 5
}
