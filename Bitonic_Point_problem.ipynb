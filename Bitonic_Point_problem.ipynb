{
 "cells": [
  {
   "cell_type": "code",
   "execution_count": 1,
   "id": "0e4ec8ef",
   "metadata": {},
   "outputs": [
    {
     "data": {
      "text/plain": [
       "'Given an array arr of n elements that is first strictly increasing and then maybe strictly decreasing, find the maximum element in the array.\\nNote: If the array is increasing then just print the last element will be the maximum value.\\n\\nExample 1:\\n\\nInput: \\nn = 9\\narr[] = {1,15,25,45,42,21,17,12,11}\\nOutput: 45\\nExplanation: Maximum element is 45.\\nExample 2:\\n\\nInput: \\nn = 5\\narr[] = {1, 45, 47, 50, 5}\\nOutput: 50\\nExplanation: Maximum element is 50.'"
      ]
     },
     "execution_count": 1,
     "metadata": {},
     "output_type": "execute_result"
    }
   ],
   "source": [
    "\"\"\"Given an array arr of n elements that is first strictly increasing and then maybe strictly decreasing, find the maximum element in the array.\n",
    "Note: If the array is increasing then just print the last element will be the maximum value.\n",
    "\n",
    "Example 1:\n",
    "\n",
    "Input: \n",
    "n = 9\n",
    "arr[] = {1,15,25,45,42,21,17,12,11}\n",
    "Output: 45\n",
    "Explanation: Maximum element is 45.\n",
    "Example 2:\n",
    "\n",
    "Input: \n",
    "n = 5\n",
    "arr[] = {1, 45, 47, 50, 5}\n",
    "Output: 50\n",
    "Explanation: Maximum element is 50.\"\"\""
   ]
  },
  {
   "cell_type": "code",
   "execution_count": 2,
   "id": "16904ae0",
   "metadata": {},
   "outputs": [],
   "source": [
    "#solution\n",
    "class Solution:\n",
    "\n",
    "    def findMaximum(self,arr, n):\n",
    "        maximum=arr[0]\n",
    "        for i in arr:\n",
    "            if i>maximum:\n",
    "                maximum=i\n",
    "        return maximum\n"
   ]
  },
  {
   "cell_type": "code",
   "execution_count": 6,
   "id": "0db02475",
   "metadata": {},
   "outputs": [
    {
     "name": "stdout",
     "output_type": "stream",
     "text": [
      "Maximum value: 4\n"
     ]
    }
   ],
   "source": [
    "solution = Solution()\n",
    "\n",
    "arr=[1,2,4,3]\n",
    "n = len(arr)\n",
    "\n",
    "maximum_value = solution.findMaximum(arr, n)\n",
    "\n",
    "print(\"Maximum value:\", maximum_value)\n",
    "#arr1=[1,2,4,3]\n"
   ]
  },
  {
   "cell_type": "code",
   "execution_count": null,
   "id": "7ff4463b",
   "metadata": {},
   "outputs": [],
   "source": []
  }
 ],
 "metadata": {
  "kernelspec": {
   "display_name": "Python 3 (ipykernel)",
   "language": "python",
   "name": "python3"
  },
  "language_info": {
   "codemirror_mode": {
    "name": "ipython",
    "version": 3
   },
   "file_extension": ".py",
   "mimetype": "text/x-python",
   "name": "python",
   "nbconvert_exporter": "python",
   "pygments_lexer": "ipython3",
   "version": "3.9.13"
  }
 },
 "nbformat": 4,
 "nbformat_minor": 5
}
