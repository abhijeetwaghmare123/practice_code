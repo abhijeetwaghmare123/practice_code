{
 "cells": [
  {
   "cell_type": "code",
   "execution_count": null,
   "id": "3cb328eb",
   "metadata": {},
   "outputs": [],
   "source": [
    "\"\"\"For N = 2 the pattern will be \n",
    "2 2 1 1\n",
    "2 1\n",
    "\n",
    "For N = 3 the pattern will be \n",
    "3 3 3 2 2 2 1 1 1\n",
    "3 3 2 2 1 1\n",
    "3 2 1\n",
    "\n",
    "Note: Instead of printing a new line print a \"$\" without quotes. After printing the total output, end of the line is expected.\n",
    "\n",
    "Example 1:\n",
    "\n",
    "Input: 2\n",
    "Output:\n",
    "2 2 1 1 $2 1 $\n",
    "\n",
    "Example 2:\n",
    "\n",
    "Input: 3\n",
    "Output:\n",
    "3 3 3 2 2 2 1 1 1 $3 3 2 2 1 1 $3 2 1 $\n",
    "\"\"\""
   ]
  },
  {
   "cell_type": "code",
   "execution_count": 1,
   "id": "de64695b",
   "metadata": {},
   "outputs": [],
   "source": [
    "def printPat(n):\n",
    "    for i in range(n,0,-1):\n",
    "        for j in range(n,0,-1):\n",
    "            for k in range(i):\n",
    "                print(j,end=\" \")\n",
    "        print(\"$\",end='')\n",
    "    print()\n",
    "    \n"
   ]
  },
  {
   "cell_type": "code",
   "execution_count": 2,
   "id": "c7caa454",
   "metadata": {},
   "outputs": [
    {
     "name": "stdout",
     "output_type": "stream",
     "text": [
      "3 3 3 2 2 2 1 1 1 $3 3 2 2 1 1 $3 2 1 $\n"
     ]
    }
   ],
   "source": [
    "printPat(3)"
   ]
  },
  {
   "cell_type": "code",
   "execution_count": 3,
   "id": "91deb0bb",
   "metadata": {},
   "outputs": [
    {
     "name": "stdout",
     "output_type": "stream",
     "text": [
      "5\n",
      "4\n",
      "3\n",
      "2\n",
      "1\n"
     ]
    }
   ],
   "source": [
    "p=5\n",
    "for q in range(p,0,-1):\n",
    "    print(q)"
   ]
  },
  {
   "cell_type": "code",
   "execution_count": null,
   "id": "2c697a38",
   "metadata": {},
   "outputs": [],
   "source": []
  }
 ],
 "metadata": {
  "kernelspec": {
   "display_name": "Python 3 (ipykernel)",
   "language": "python",
   "name": "python3"
  },
  "language_info": {
   "codemirror_mode": {
    "name": "ipython",
    "version": 3
   },
   "file_extension": ".py",
   "mimetype": "text/x-python",
   "name": "python",
   "nbconvert_exporter": "python",
   "pygments_lexer": "ipython3",
   "version": "3.9.13"
  }
 },
 "nbformat": 4,
 "nbformat_minor": 5
}
