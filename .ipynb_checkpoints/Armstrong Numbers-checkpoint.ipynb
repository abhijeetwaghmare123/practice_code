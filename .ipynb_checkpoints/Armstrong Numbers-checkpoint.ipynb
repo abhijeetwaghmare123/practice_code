{
 "cells": [
  {
   "cell_type": "code",
   "execution_count": 1,
   "id": "e3c4740d",
   "metadata": {},
   "outputs": [],
   "source": [
    "def armstrongNumber (n):\n",
    "        N_str = str(n)\n",
    "        armstrong_sum = 0\n",
    "        for digit in N_str:\n",
    "            armstrong_sum += int(digit) ** 3\n",
    "        if armstrong_sum == n:\n",
    "            return \"Yes\"\n",
    "        else:\n",
    "            return \"No\""
   ]
  },
  {
   "cell_type": "code",
   "execution_count": 2,
   "id": "b1443979",
   "metadata": {},
   "outputs": [
    {
     "data": {
      "text/plain": [
       "'Yes'"
      ]
     },
     "execution_count": 2,
     "metadata": {},
     "output_type": "execute_result"
    }
   ],
   "source": [
    "n=153\n",
    "armstrongNumber(n)"
   ]
  },
  {
   "cell_type": "code",
   "execution_count": 4,
   "id": "d8f8810e",
   "metadata": {},
   "outputs": [
    {
     "data": {
      "text/plain": [
       "'No'"
      ]
     },
     "execution_count": 4,
     "metadata": {},
     "output_type": "execute_result"
    }
   ],
   "source": [
    "n=123\n",
    "armstrongNumber(n)"
   ]
  },
  {
   "cell_type": "code",
   "execution_count": null,
   "id": "efed6c9d",
   "metadata": {},
   "outputs": [],
   "source": []
  }
 ],
 "metadata": {
  "kernelspec": {
   "display_name": "Python 3 (ipykernel)",
   "language": "python",
   "name": "python3"
  },
  "language_info": {
   "codemirror_mode": {
    "name": "ipython",
    "version": 3
   },
   "file_extension": ".py",
   "mimetype": "text/x-python",
   "name": "python",
   "nbconvert_exporter": "python",
   "pygments_lexer": "ipython3",
   "version": "3.9.13"
  }
 },
 "nbformat": 4,
 "nbformat_minor": 5
}
