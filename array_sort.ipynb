{
 "cells": [
  {
   "cell_type": "code",
   "execution_count": null,
   "id": "13bab938",
   "metadata": {},
   "outputs": [],
   "source": []
  },
  {
   "cell_type": "code",
   "execution_count": 31,
   "id": "30fdc1af",
   "metadata": {},
   "outputs": [
    {
     "name": "stdout",
     "output_type": "stream",
     "text": [
      "10\n",
      "[0, 1, 2, 3, 4, 5, 6, 7, 8, 9]\n"
     ]
    }
   ],
   "source": [
    "arr=[9,8,7,6,5,4,3,2,1,0]\n",
    "x=len(arr)\n",
    "print(x)\n",
    "res=[]\n",
    "for i in range(x):\n",
    "    for j in range(x):\n",
    "        if arr[i]<arr[j]:\n",
    "            res.append(arr[i])\n",
    "        else:\n",
    "            res.append(arr[j])\n",
    "                           \n",
    "print(list(set(res)))    "
   ]
  },
  {
   "cell_type": "code",
   "execution_count": null,
   "id": "e1c8087d",
   "metadata": {},
   "outputs": [],
   "source": []
  },
  {
   "cell_type": "code",
   "execution_count": null,
   "id": "ebd6f7c8",
   "metadata": {},
   "outputs": [],
   "source": []
  }
 ],
 "metadata": {
  "kernelspec": {
   "display_name": "Python 3 (ipykernel)",
   "language": "python",
   "name": "python3"
  },
  "language_info": {
   "codemirror_mode": {
    "name": "ipython",
    "version": 3
   },
   "file_extension": ".py",
   "mimetype": "text/x-python",
   "name": "python",
   "nbconvert_exporter": "python",
   "pygments_lexer": "ipython3",
   "version": "3.9.13"
  }
 },
 "nbformat": 4,
 "nbformat_minor": 5
}
