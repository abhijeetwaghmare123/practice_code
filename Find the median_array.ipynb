{
 "cells": [
  {
   "cell_type": "code",
   "execution_count": 14,
   "id": "eef263b2",
   "metadata": {},
   "outputs": [],
   "source": [
    "\n",
    "def find_median(v):\n",
    "        N=len(v)\n",
    "        v.sort()\n",
    "\n",
    "        if N % 2 == 1:  \n",
    "            median = v[N // 2]\n",
    "        else:\n",
    "            mid1 = v[N // 2 - 1]\n",
    "            mid2 = v[N // 2]\n",
    "            median = (mid1 + mid2) // 2\n",
    "\n",
    "        return median"
   ]
  },
  {
   "cell_type": "code",
   "execution_count": 17,
   "id": "137ddfe0",
   "metadata": {},
   "outputs": [],
   "source": [
    "v=[100,52,35,45,55]"
   ]
  },
  {
   "cell_type": "code",
   "execution_count": 18,
   "id": "bf3fd9d7",
   "metadata": {},
   "outputs": [
    {
     "name": "stdout",
     "output_type": "stream",
     "text": [
      "52\n"
     ]
    }
   ],
   "source": [
    "result=find_median(v)\n",
    "print(result)"
   ]
  },
  {
   "cell_type": "code",
   "execution_count": null,
   "id": "45deae86",
   "metadata": {},
   "outputs": [],
   "source": []
  }
 ],
 "metadata": {
  "kernelspec": {
   "display_name": "Python 3 (ipykernel)",
   "language": "python",
   "name": "python3"
  },
  "language_info": {
   "codemirror_mode": {
    "name": "ipython",
    "version": 3
   },
   "file_extension": ".py",
   "mimetype": "text/x-python",
   "name": "python",
   "nbconvert_exporter": "python",
   "pygments_lexer": "ipython3",
   "version": "3.9.13"
  }
 },
 "nbformat": 4,
 "nbformat_minor": 5
}
