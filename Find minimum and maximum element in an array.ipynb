{
 "cells": [
  {
   "cell_type": "code",
   "execution_count": 1,
   "id": "51ce7bde",
   "metadata": {},
   "outputs": [
    {
     "data": {
      "text/plain": [
       "'Given an array A of size N of integers. Your task is to find the minimum and maximum elements in the array.\\n\\n \\n\\nExample 1:\\n\\nInput:\\nN = 6\\nA[] = {3, 2, 1, 56, 10000, 167}\\nOutput: 1 10000\\nExplanation: minimum and maximum elements of array are 1 and 10000'"
      ]
     },
     "execution_count": 1,
     "metadata": {},
     "output_type": "execute_result"
    }
   ],
   "source": [
    "\"\"\"Given an array A of size N of integers. Your task is to find the minimum and maximum elements in the array.\n",
    "\n",
    " \n",
    "\n",
    "Example 1:\n",
    "\n",
    "Input:\n",
    "N = 6\n",
    "A[] = {3, 2, 1, 56, 10000, 167}\n",
    "Output: 1 10000\n",
    "Explanation: minimum and maximum elements of array are 1 and 10000\"\"\""
   ]
  },
  {
   "cell_type": "code",
   "execution_count": 2,
   "id": "7217c705",
   "metadata": {},
   "outputs": [],
   "source": [
    "def getMinMax( a, n):\n",
    "    min=a[0]\n",
    "    max=a[0]\n",
    "    for i in range(n):\n",
    "        if a[i]<min:\n",
    "            min=a[i]\n",
    "        if a[i]>max:\n",
    "            max=a[i]\n",
    "    return min,max\n",
    "            "
   ]
  },
  {
   "cell_type": "code",
   "execution_count": 3,
   "id": "285d79e1",
   "metadata": {},
   "outputs": [
    {
     "data": {
      "text/plain": [
       "(3, 43)"
      ]
     },
     "execution_count": 3,
     "metadata": {},
     "output_type": "execute_result"
    }
   ],
   "source": [
    "a=[12,3,4,21,43]\n",
    "n=len(a)\n",
    "getMinMax(a,n)"
   ]
  },
  {
   "cell_type": "code",
   "execution_count": null,
   "id": "751572fd",
   "metadata": {},
   "outputs": [],
   "source": []
  }
 ],
 "metadata": {
  "kernelspec": {
   "display_name": "Python 3 (ipykernel)",
   "language": "python",
   "name": "python3"
  },
  "language_info": {
   "codemirror_mode": {
    "name": "ipython",
    "version": 3
   },
   "file_extension": ".py",
   "mimetype": "text/x-python",
   "name": "python",
   "nbconvert_exporter": "python",
   "pygments_lexer": "ipython3",
   "version": "3.9.13"
  }
 },
 "nbformat": 4,
 "nbformat_minor": 5
}
