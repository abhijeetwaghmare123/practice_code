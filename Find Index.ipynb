{
 "cells": [
  {
   "cell_type": "code",
   "execution_count": 1,
   "id": "77e9b430",
   "metadata": {},
   "outputs": [
    {
     "data": {
      "text/plain": [
       "'\\nGiven an unsorted array Arr[] of N integers and a Key which is present in this array. You need to write a program to find the start index( index where the element is first found from left in the array ) and end index( index where the element is first found from right in the array ).If the key does not exist in the array then return -1 for both start and end index in this case.\\n\\nExample 1:\\n\\nInput:\\nN = 6\\narr[] = { 1, 2, 3, 4, 5, 5 }\\nKey = 5\\nOutput:  4 5\\nExplanation:\\n5 appears first time at index 4 and\\nappears last time at index 5.\\n(0 based indexing)'"
      ]
     },
     "execution_count": 1,
     "metadata": {},
     "output_type": "execute_result"
    }
   ],
   "source": [
    "\"\"\"\n",
    "Given an unsorted array Arr[] of N integers and a Key which is present in this array. You need to write a program to find the start index( index where the element is first found from left in the array ) and end index( index where the element is first found from right in the array ).If the key does not exist in the array then return -1 for both start and end index in this case.\n",
    "\n",
    "Example 1:\n",
    "\n",
    "Input:\n",
    "N = 6\n",
    "arr[] = { 1, 2, 3, 4, 5, 5 }\n",
    "Key = 5\n",
    "Output:  4 5\n",
    "Explanation:\n",
    "5 appears first time at index 4 and\n",
    "appears last time at index 5.\n",
    "(0 based indexing)\"\"\""
   ]
  },
  {
   "cell_type": "code",
   "execution_count": 2,
   "id": "4f67c375",
   "metadata": {},
   "outputs": [],
   "source": [
    "def findIndex (a, N, key ):\n",
    "        start_index = -1  \n",
    "        end_index = -1    \n",
    "        for i in range(N):\n",
    "            if a[i] == key:\n",
    "                start_index = i\n",
    "                break  \n",
    "\n",
    "        for i in range(N - 1, -1, -1):\n",
    "            if a[i] == key:\n",
    "                end_index = i\n",
    "                break  \n",
    "\n",
    "        return start_index, end_index\n"
   ]
  },
  {
   "cell_type": "code",
   "execution_count": 9,
   "id": "3c4882c1",
   "metadata": {},
   "outputs": [
    {
     "data": {
      "text/plain": [
       "(4, 5)"
      ]
     },
     "execution_count": 9,
     "metadata": {},
     "output_type": "execute_result"
    }
   ],
   "source": [
    "N = 6\n",
    "arr= [ 1, 2, 3, 4, 5, 5 ]\n",
    "key = 5\n",
    "findIndex(arr,N,key)"
   ]
  },
  {
   "cell_type": "code",
   "execution_count": 7,
   "id": "61564f34",
   "metadata": {},
   "outputs": [
    {
     "name": "stdout",
     "output_type": "stream",
     "text": [
      "5\n",
      "4\n",
      "3\n",
      "2\n",
      "1\n",
      "0\n"
     ]
    }
   ],
   "source": [
    "for y in range(N - 1, -1, -1):\n",
    "    print(y)"
   ]
  },
  {
   "cell_type": "code",
   "execution_count": null,
   "id": "3603f27f",
   "metadata": {},
   "outputs": [],
   "source": []
  }
 ],
 "metadata": {
  "kernelspec": {
   "display_name": "Python 3 (ipykernel)",
   "language": "python",
   "name": "python3"
  },
  "language_info": {
   "codemirror_mode": {
    "name": "ipython",
    "version": 3
   },
   "file_extension": ".py",
   "mimetype": "text/x-python",
   "name": "python",
   "nbconvert_exporter": "python",
   "pygments_lexer": "ipython3",
   "version": "3.9.13"
  }
 },
 "nbformat": 4,
 "nbformat_minor": 5
}
