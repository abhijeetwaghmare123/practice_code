{
 "cells": [
  {
   "cell_type": "code",
   "execution_count": 2,
   "id": "efba1b1f",
   "metadata": {},
   "outputs": [
    {
     "data": {
      "text/plain": [
       "'Given an sorted array A of size N. Find number of elements which are less than or equal to given element X.\\n\\n \\n\\nExample 1:\\n\\nInput:\\nN = 6\\nA[] = {1, 2, 4, 5, 8, 10}\\nX = 9\\nOutput:\\n5\\n'"
      ]
     },
     "execution_count": 2,
     "metadata": {},
     "output_type": "execute_result"
    }
   ],
   "source": [
    "\"\"\"Given an sorted array A of size N. Find number of elements which are less than or equal to given element X.\n",
    "\n",
    " \n",
    "\n",
    "Example 1:\n",
    "\n",
    "Input:\n",
    "N = 6\n",
    "A[] = {1, 2, 4, 5, 8, 10}\n",
    "X = 9\n",
    "Output:\n",
    "5\n",
    "\"\"\""
   ]
  },
  {
   "cell_type": "code",
   "execution_count": 3,
   "id": "c126fef2",
   "metadata": {},
   "outputs": [],
   "source": [
    "def countOfElements( a, n, x):\n",
    "    count = 0\n",
    "\n",
    "    for num in a:\n",
    "        if num <= x:\n",
    "            count += 1\n",
    "\n",
    "    return count\n"
   ]
  },
  {
   "cell_type": "code",
   "execution_count": 5,
   "id": "aa48de6b",
   "metadata": {},
   "outputs": [
    {
     "data": {
      "text/plain": [
       "5"
      ]
     },
     "execution_count": 5,
     "metadata": {},
     "output_type": "execute_result"
    }
   ],
   "source": [
    "a=[1,2,4,5,8,10]\n",
    "n=len(a)\n",
    "x=9\n",
    "countOfElements(a,n,x)"
   ]
  },
  {
   "cell_type": "code",
   "execution_count": null,
   "id": "01de6167",
   "metadata": {},
   "outputs": [],
   "source": []
  }
 ],
 "metadata": {
  "kernelspec": {
   "display_name": "Python 3 (ipykernel)",
   "language": "python",
   "name": "python3"
  },
  "language_info": {
   "codemirror_mode": {
    "name": "ipython",
    "version": 3
   },
   "file_extension": ".py",
   "mimetype": "text/x-python",
   "name": "python",
   "nbconvert_exporter": "python",
   "pygments_lexer": "ipython3",
   "version": "3.9.13"
  }
 },
 "nbformat": 4,
 "nbformat_minor": 5
}
