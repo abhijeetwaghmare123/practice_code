{
 "cells": [
  {
   "cell_type": "code",
   "execution_count": null,
   "id": "8b0f8dee",
   "metadata": {},
   "outputs": [],
   "source": [
    "\"\"\"Given a string consisting of lowercase english alphabets, reverse only the vowels present in it and print the resulting string.\n",
    "\n",
    "Example 1:\n",
    "\n",
    "Input:\n",
    "S = \"geeksforgeeks\"\n",
    "Output: geeksforgeeks\n",
    "Explanation: The vowels are: e, e, o, e, e\n",
    "Reverse of these is also e, e, o, e, e.\n",
    "\n",
    "Example 2:\n",
    "\n",
    "Input: \n",
    "S = \"practice\"\n",
    "Output: prectica\n",
    "Explanation: The vowels are a, i, e\n",
    "Reverse of these is e, i, a.\n",
    " \"\"\""
   ]
  },
  {
   "cell_type": "code",
   "execution_count": 10,
   "id": "db487c54",
   "metadata": {},
   "outputs": [],
   "source": [
    "def modify( s):\n",
    "    vowels = set(\"aeiouAEIOU\")\n",
    "    vowel_stack = []\n",
    "    s = list(s)\n",
    "    for char in s:\n",
    "        if char in vowels:\n",
    "            vowel_stack.append(char)\n",
    "    for i in range(len(s)):\n",
    "        if s[i] in vowels:\n",
    "            s[i] = vowel_stack.pop()\n",
    "    return ''.join(s)"
   ]
  },
  {
   "cell_type": "code",
   "execution_count": 11,
   "id": "9c52692a",
   "metadata": {},
   "outputs": [
    {
     "data": {
      "text/plain": [
       "'ebhejiat'"
      ]
     },
     "execution_count": 11,
     "metadata": {},
     "output_type": "execute_result"
    }
   ],
   "source": [
    "s='abhijeet'\n",
    "modify(s)"
   ]
  }
 ],
 "metadata": {
  "kernelspec": {
   "display_name": "Python 3 (ipykernel)",
   "language": "python",
   "name": "python3"
  },
  "language_info": {
   "codemirror_mode": {
    "name": "ipython",
    "version": 3
   },
   "file_extension": ".py",
   "mimetype": "text/x-python",
   "name": "python",
   "nbconvert_exporter": "python",
   "pygments_lexer": "ipython3",
   "version": "3.9.13"
  }
 },
 "nbformat": 4,
 "nbformat_minor": 5
}
