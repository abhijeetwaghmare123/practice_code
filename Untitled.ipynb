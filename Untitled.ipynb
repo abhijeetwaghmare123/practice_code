{
 "cells": [
  {
   "cell_type": "code",
   "execution_count": 54,
   "id": "a42ee6fa",
   "metadata": {},
   "outputs": [],
   "source": [
    "def duplicate0(arr,n):\n",
    "    d={}\n",
    "    l=[]\n",
    "    for i in range(n):\n",
    "        if arr[i] not in d:\n",
    "            d[arr[i]]=1\n",
    "        else:\n",
    "            d[arr[i]]=+1\n",
    "    for key,values in d.items():\n",
    "        if (values>1):\n",
    "            l.append(key)\n",
    "    if len(l)==0:\n",
    "        l.append(-1)\n",
    "    l.sort()\n",
    "    return l"
   ]
  },
  {
   "cell_type": "code",
   "execution_count": 55,
   "id": "c000a785",
   "metadata": {},
   "outputs": [
    {
     "data": {
      "text/plain": [
       "[-1]"
      ]
     },
     "execution_count": 55,
     "metadata": {},
     "output_type": "execute_result"
    }
   ],
   "source": [
    "arr2=[1,2,3,3,4,4]\n",
    "n=len(arr)\n",
    "duplicate0(arr2,n)"
   ]
  },
  {
   "cell_type": "code",
   "execution_count": 56,
   "id": "8db9259f",
   "metadata": {},
   "outputs": [],
   "source": [
    "def duplicates1(arr, n): \n",
    "        # code here\n",
    "        dict1 = {}\n",
    "        l=[]\n",
    "        for i in range(n):\n",
    "            if(arr[i] not in dict1):\n",
    "                dict1[arr[i]] = 1\n",
    "            else:\n",
    "                dict1[arr[i]]+=1\n",
    "        for key in dict1:\n",
    "            if(dict1[key]>1):\n",
    "                l.append(key)\n",
    "        if(len(l)==0):\n",
    "            l.append(-1)\n",
    "        l.sort()    \n",
    "        return l"
   ]
  },
  {
   "cell_type": "code",
   "execution_count": 57,
   "id": "973f0984",
   "metadata": {},
   "outputs": [
    {
     "data": {
      "text/plain": [
       "[3, 4]"
      ]
     },
     "execution_count": 57,
     "metadata": {},
     "output_type": "execute_result"
    }
   ],
   "source": [
    "arr=[1,2,3,3,4,4]\n",
    "n=len(arr)\n",
    "duplicates1(arr,n)\n"
   ]
  },
  {
   "cell_type": "code",
   "execution_count": 43,
   "id": "d4b9f8e1",
   "metadata": {},
   "outputs": [],
   "source": [
    "def duplicates(arr, n): \n",
    "        unique = set()\n",
    "        duplicates = set()\n",
    "        for x in range(0,n):\n",
    "            if arr[x] in unique and arr[x] not in duplicates:\n",
    "                duplicates.add(arr[x])\n",
    "            else:\n",
    "                unique.add(arr[x])\n",
    "        if not duplicates:\n",
    "            return -1\n",
    "        \n",
    "        else:\n",
    "            return sorted(duplicates)\n",
    "        \n",
    "        \n",
    "        "
   ]
  },
  {
   "cell_type": "code",
   "execution_count": 45,
   "id": "46b68951",
   "metadata": {},
   "outputs": [
    {
     "ename": "IndexError",
     "evalue": "list index out of range",
     "output_type": "error",
     "traceback": [
      "\u001b[1;31m---------------------------------------------------------------------------\u001b[0m",
      "\u001b[1;31mIndexError\u001b[0m                                Traceback (most recent call last)",
      "\u001b[1;32m~\\AppData\\Local\\Temp\\ipykernel_11756\\3384783925.py\u001b[0m in \u001b[0;36m<module>\u001b[1;34m\u001b[0m\n\u001b[0;32m      1\u001b[0m \u001b[0marr1\u001b[0m\u001b[1;33m=\u001b[0m\u001b[1;33m[\u001b[0m\u001b[1;36m2\u001b[0m\u001b[1;33m,\u001b[0m\u001b[1;36m3\u001b[0m\u001b[1;33m,\u001b[0m\u001b[1;36m3\u001b[0m\u001b[1;33m,\u001b[0m\u001b[1;36m4\u001b[0m\u001b[1;33m]\u001b[0m\u001b[1;33m\u001b[0m\u001b[1;33m\u001b[0m\u001b[0m\n\u001b[0;32m      2\u001b[0m \u001b[0mn\u001b[0m\u001b[1;33m=\u001b[0m\u001b[0mlen\u001b[0m\u001b[1;33m(\u001b[0m\u001b[0marr\u001b[0m\u001b[1;33m)\u001b[0m\u001b[1;33m\u001b[0m\u001b[1;33m\u001b[0m\u001b[0m\n\u001b[1;32m----> 3\u001b[1;33m \u001b[0mduplicate\u001b[0m\u001b[1;33m(\u001b[0m\u001b[0marr1\u001b[0m\u001b[1;33m,\u001b[0m\u001b[0mn\u001b[0m\u001b[1;33m)\u001b[0m\u001b[1;33m\u001b[0m\u001b[1;33m\u001b[0m\u001b[0m\n\u001b[0m",
      "\u001b[1;32m~\\AppData\\Local\\Temp\\ipykernel_11756\\3726555507.py\u001b[0m in \u001b[0;36mduplicate\u001b[1;34m(arr, n)\u001b[0m\n\u001b[0;32m      3\u001b[0m     \u001b[0ml\u001b[0m\u001b[1;33m=\u001b[0m\u001b[1;33m[\u001b[0m\u001b[1;33m]\u001b[0m\u001b[1;33m\u001b[0m\u001b[1;33m\u001b[0m\u001b[0m\n\u001b[0;32m      4\u001b[0m     \u001b[1;32mfor\u001b[0m \u001b[0mi\u001b[0m \u001b[1;32min\u001b[0m \u001b[0mrange\u001b[0m\u001b[1;33m(\u001b[0m\u001b[0mn\u001b[0m\u001b[1;33m)\u001b[0m\u001b[1;33m:\u001b[0m\u001b[1;33m\u001b[0m\u001b[1;33m\u001b[0m\u001b[0m\n\u001b[1;32m----> 5\u001b[1;33m         \u001b[1;32mif\u001b[0m \u001b[0marr\u001b[0m\u001b[1;33m[\u001b[0m\u001b[0mi\u001b[0m\u001b[1;33m]\u001b[0m \u001b[1;32mnot\u001b[0m \u001b[1;32min\u001b[0m \u001b[0md\u001b[0m\u001b[1;33m:\u001b[0m\u001b[1;33m\u001b[0m\u001b[1;33m\u001b[0m\u001b[0m\n\u001b[0m\u001b[0;32m      6\u001b[0m             \u001b[0md\u001b[0m\u001b[1;33m[\u001b[0m\u001b[0marr\u001b[0m\u001b[1;33m[\u001b[0m\u001b[0mi\u001b[0m\u001b[1;33m]\u001b[0m\u001b[1;33m]\u001b[0m\u001b[1;33m=\u001b[0m\u001b[1;36m1\u001b[0m\u001b[1;33m\u001b[0m\u001b[1;33m\u001b[0m\u001b[0m\n\u001b[0;32m      7\u001b[0m         \u001b[1;32melse\u001b[0m\u001b[1;33m:\u001b[0m\u001b[1;33m\u001b[0m\u001b[1;33m\u001b[0m\u001b[0m\n",
      "\u001b[1;31mIndexError\u001b[0m: list index out of range"
     ]
    }
   ],
   "source": [
    "arr1=[2,3,3,4]\n",
    "n=len(arr)\n",
    "duplicate(arr1,n)\n"
   ]
  },
  {
   "cell_type": "code",
   "execution_count": null,
   "id": "a6919629",
   "metadata": {},
   "outputs": [],
   "source": []
  },
  {
   "cell_type": "code",
   "execution_count": null,
   "id": "bf1589d1",
   "metadata": {},
   "outputs": [],
   "source": []
  }
 ],
 "metadata": {
  "kernelspec": {
   "display_name": "Python 3 (ipykernel)",
   "language": "python",
   "name": "python3"
  },
  "language_info": {
   "codemirror_mode": {
    "name": "ipython",
    "version": 3
   },
   "file_extension": ".py",
   "mimetype": "text/x-python",
   "name": "python",
   "nbconvert_exporter": "python",
   "pygments_lexer": "ipython3",
   "version": "3.9.13"
  }
 },
 "nbformat": 4,
 "nbformat_minor": 5
}
