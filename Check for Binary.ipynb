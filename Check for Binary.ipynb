{
 "cells": [
  {
   "cell_type": "code",
   "execution_count": 1,
   "id": "5d561f9a",
   "metadata": {},
   "outputs": [
    {
     "data": {
      "text/plain": [
       "'ven a non-empty sequence of characters str, return true if sequence is Binary, else return false\\n\\nExample 1:\\n\\nInput:\\nstr = 101\\nOutput:\\n1\\nExplanation:\\nSince string contains only 0 and 1, output is 1.\\nExample 2:\\n\\nInput:\\nstr = 75\\nOutput:\\n0\\nExplanation:\\nSince string contains digits other than 0 and 1, output is 0.'"
      ]
     },
     "execution_count": 1,
     "metadata": {},
     "output_type": "execute_result"
    }
   ],
   "source": [
    "\"\"\"ven a non-empty sequence of characters str, return true if sequence is Binary, else return false\n",
    "\n",
    "Example 1:\n",
    "\n",
    "Input:\n",
    "str = 101\n",
    "Output:\n",
    "1\n",
    "Explanation:\n",
    "Since string contains only 0 and 1, output is 1.\n",
    "Example 2:\n",
    "\n",
    "Input:\n",
    "str = 75\n",
    "Output:\n",
    "0\n",
    "Explanation:\n",
    "Since string contains digits other than 0 and 1, output is 0.\"\"\""
   ]
  },
  {
   "cell_type": "code",
   "execution_count": 2,
   "id": "e50b4b2c",
   "metadata": {},
   "outputs": [],
   "source": [
    "def isBinary(str):\n",
    "    for char in str:\n",
    "        if char not in ['0', '1']:\n",
    "            return 0\n",
    "\n",
    "    return 1\n"
   ]
  },
  {
   "cell_type": "code",
   "execution_count": 5,
   "id": "62229089",
   "metadata": {},
   "outputs": [
    {
     "data": {
      "text/plain": [
       "0"
      ]
     },
     "execution_count": 5,
     "metadata": {},
     "output_type": "execute_result"
    }
   ],
   "source": [
    "isBinary('102')"
   ]
  },
  {
   "cell_type": "code",
   "execution_count": 6,
   "id": "3c19db19",
   "metadata": {},
   "outputs": [
    {
     "data": {
      "text/plain": [
       "1"
      ]
     },
     "execution_count": 6,
     "metadata": {},
     "output_type": "execute_result"
    }
   ],
   "source": [
    "isBinary('101')"
   ]
  },
  {
   "cell_type": "code",
   "execution_count": null,
   "id": "638e1553",
   "metadata": {},
   "outputs": [],
   "source": []
  }
 ],
 "metadata": {
  "kernelspec": {
   "display_name": "Python 3 (ipykernel)",
   "language": "python",
   "name": "python3"
  },
  "language_info": {
   "codemirror_mode": {
    "name": "ipython",
    "version": 3
   },
   "file_extension": ".py",
   "mimetype": "text/x-python",
   "name": "python",
   "nbconvert_exporter": "python",
   "pygments_lexer": "ipython3",
   "version": "3.9.13"
  }
 },
 "nbformat": 4,
 "nbformat_minor": 5
}
