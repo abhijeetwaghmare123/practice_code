{
 "cells": [
  {
   "cell_type": "code",
   "execution_count": 1,
   "id": "7c123240",
   "metadata": {},
   "outputs": [
    {
     "data": {
      "text/plain": [
       "'Print numbers from 1 to N without the help of loops.\\n\\nExample 1:\\n\\nInput:\\nN = 10\\nOutput: 1 2 3 4 5 6 7 8 9 10'"
      ]
     },
     "execution_count": 1,
     "metadata": {},
     "output_type": "execute_result"
    }
   ],
   "source": [
    "\"\"\"Print numbers from 1 to N without the help of loops.\n",
    "\n",
    "Example 1:\n",
    "\n",
    "Input:\n",
    "N = 10\n",
    "Output: 1 2 3 4 5 6 7 8 9 10\"\"\""
   ]
  },
  {
   "cell_type": "code",
   "execution_count": 2,
   "id": "cba2b5fe",
   "metadata": {},
   "outputs": [],
   "source": [
    "class Solution:    \n",
    "    #Complete this function\n",
    "    def printNos(self,N):\n",
    "        #Your code here\n",
    "        for i in range(1,N+1):\n",
    "            print(i,end=' ')\n"
   ]
  },
  {
   "cell_type": "code",
   "execution_count": 3,
   "id": "06fdb105",
   "metadata": {},
   "outputs": [
    {
     "name": "stdout",
     "output_type": "stream",
     "text": [
      "1 2 3 4 5 6 7 8 9 10 None\n"
     ]
    }
   ],
   "source": [
    "solution=Solution()\n",
    "N=10\n",
    "print_Nth=solution.printNos(N)\n",
    "print(print_Nth)"
   ]
  },
  {
   "cell_type": "code",
   "execution_count": null,
   "id": "f08696db",
   "metadata": {},
   "outputs": [],
   "source": []
  }
 ],
 "metadata": {
  "kernelspec": {
   "display_name": "Python 3 (ipykernel)",
   "language": "python",
   "name": "python3"
  },
  "language_info": {
   "codemirror_mode": {
    "name": "ipython",
    "version": 3
   },
   "file_extension": ".py",
   "mimetype": "text/x-python",
   "name": "python",
   "nbconvert_exporter": "python",
   "pygments_lexer": "ipython3",
   "version": "3.9.13"
  }
 },
 "nbformat": 4,
 "nbformat_minor": 5
}
