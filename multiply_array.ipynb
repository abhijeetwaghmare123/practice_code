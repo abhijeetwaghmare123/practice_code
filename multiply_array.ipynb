{
 "cells": [
  {
   "cell_type": "code",
   "execution_count": 1,
   "id": "ddb37434",
   "metadata": {},
   "outputs": [
    {
     "data": {
      "text/plain": [
       "'Calculate the product of all the elements in an array.\\n\\nExample 1:\\n\\nInput:\\n5\\n1 2 3 4 5\\nOutput:\\n120\\n \\n\\nExample 2:\\n\\nInput:\\n10\\n5 5 5 5 5 5 5 5 5 5\\nOutput:\\n9765625'"
      ]
     },
     "execution_count": 1,
     "metadata": {},
     "output_type": "execute_result"
    }
   ],
   "source": [
    "\"\"\"Calculate the product of all the elements in an array.\n",
    "\n",
    "Example 1:\n",
    "\n",
    "Input:\n",
    "5\n",
    "1 2 3 4 5\n",
    "Output:\n",
    "120\n",
    " \n",
    "\n",
    "Example 2:\n",
    "\n",
    "Input:\n",
    "10\n",
    "5 5 5 5 5 5 5 5 5 5\n",
    "Output:\n",
    "9765625\"\"\""
   ]
  },
  {
   "cell_type": "code",
   "execution_count": 2,
   "id": "8b0c7de8",
   "metadata": {},
   "outputs": [],
   "source": [
    "def longgest(arr,n):\n",
    "    mil=1\n",
    "    for i in arr:\n",
    "        mil*=i\n",
    "    return mil  "
   ]
  },
  {
   "cell_type": "code",
   "execution_count": 6,
   "id": "9f536df9",
   "metadata": {},
   "outputs": [
    {
     "data": {
      "text/plain": [
       "24"
      ]
     },
     "execution_count": 6,
     "metadata": {},
     "output_type": "execute_result"
    }
   ],
   "source": [
    "arr=[1,2,3,4]\n",
    "n=len(arr)\n",
    "longgest(arr,n)"
   ]
  },
  {
   "cell_type": "code",
   "execution_count": null,
   "id": "84e44f16",
   "metadata": {},
   "outputs": [],
   "source": []
  }
 ],
 "metadata": {
  "kernelspec": {
   "display_name": "Python 3 (ipykernel)",
   "language": "python",
   "name": "python3"
  },
  "language_info": {
   "codemirror_mode": {
    "name": "ipython",
    "version": 3
   },
   "file_extension": ".py",
   "mimetype": "text/x-python",
   "name": "python",
   "nbconvert_exporter": "python",
   "pygments_lexer": "ipython3",
   "version": "3.9.13"
  }
 },
 "nbformat": 4,
 "nbformat_minor": 5
}
